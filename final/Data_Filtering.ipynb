{
 "cells": [
  {
   "cell_type": "code",
   "execution_count": 1,
   "metadata": {},
   "outputs": [],
   "source": [
    "from os import listdir, replace\n",
    "from os.path import isfile, join"
   ]
  },
  {
   "cell_type": "code",
   "execution_count": 2,
   "metadata": {},
   "outputs": [],
   "source": [
    "for folder_path in [\"data\"]:\n",
    "    onlyfiles = [f for f in listdir(folder_path) if isfile(join(folder_path, f))]\n",
    "    for f in onlyfiles:\n",
    "        new_folder = \"\"\n",
    "        if(f.endswith(\"_Mask_Mouth_Chin.jpg\")):\n",
    "            new_folder = \"data_new\\\\nose_nc\"\n",
    "        elif(f.endswith(\"_Mask_Chin.jpg\")):\n",
    "            new_folder = \"data_new\\\\nose_mouth_nc\"\n",
    "        elif(f.endswith(\"_Mask_Nose_Mouth.jpg\")):\n",
    "            new_folder = \"data_new\\\\chin_nc\"\n",
    "        elif(f.endswith(\"_Mask.jpg\")):\n",
    "            new_folder = \"data_new\\\\correct\"\n",
    "\n",
    "\n",
    "        replace(join(folder_path, f), join(new_folder, f))"
   ]
  },
  {
   "cell_type": "code",
   "execution_count": null,
   "metadata": {},
   "outputs": [],
   "source": []
  },
  {
   "cell_type": "code",
   "execution_count": null,
   "metadata": {},
   "outputs": [],
   "source": []
  }
 ],
 "metadata": {
  "kernelspec": {
   "display_name": "Python 3",
   "language": "python",
   "name": "python3"
  },
  "language_info": {
   "codemirror_mode": {
    "name": "ipython",
    "version": 3
   },
   "file_extension": ".py",
   "mimetype": "text/x-python",
   "name": "python",
   "nbconvert_exporter": "python",
   "pygments_lexer": "ipython3",
   "version": "3.8.6"
  }
 },
 "nbformat": 4,
 "nbformat_minor": 4
}
