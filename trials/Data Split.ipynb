{
 "cells": [
  {
   "cell_type": "code",
   "execution_count": 1,
   "metadata": {},
   "outputs": [],
   "source": [
    "import os\n",
    "import random\n",
    "from shutil import copyfile"
   ]
  },
  {
   "cell_type": "code",
   "execution_count": 3,
   "metadata": {},
   "outputs": [
    {
     "name": "stdout",
     "output_type": "stream",
     "text": [
      "The number of images with facemask labelled 'Correct': 0\n",
      "The number of images with facemask labelled 'Nose not correct': 0\n",
      "The number of images with facemask labelled 'Nose Mouth not correct': 0\n",
      "The number of images with facemask labelled 'Chin Not Correct': 0\n"
     ]
    }
   ],
   "source": [
    "print(\"The number of images with facemask labelled 'Correct':\",len(os.listdir('data_new/correct')))\n",
    "print(\"The number of images with facemask labelled 'Nose not correct':\",len(os.listdir('data_new/nose_NC')))\n",
    "print(\"The number of images with facemask labelled 'Nose Mouth not correct':\",len(os.listdir('data_new/nose_mouth_NC')))\n",
    "print(\"The number of images with facemask labelled 'Chin Not Correct':\",len(os.listdir('data_new/chin_NC')))"
   ]
  },
  {
   "cell_type": "code",
   "execution_count": 4,
   "metadata": {},
   "outputs": [],
   "source": [
    "def split_data(old_train_data, old_test_data, SOURCE, TRAINING, TESTING, SPLIT_SIZE):\n",
    "    old_train = os.listdir(old_train_data)\n",
    "    old_test = os.listdir(old_test_data)\n",
    "    old_data = old_train + old_test\n",
    "    dataset = []\n",
    "    source_list = os.listdir(SOURCE)\n",
    "    random.shuffle(source_list)\n",
    "    i = 0\n",
    "    for unitData in source_list:\n",
    "        data = SOURCE + unitData\n",
    "        if (unitData not in old_data) and (i < 628):\n",
    "            i += 1\n",
    "            if(os.path.getsize(data) > 0):\n",
    "                dataset.append(unitData)\n",
    "            else:\n",
    "                print('Skipped ' + unitData)\n",
    "                print('Invalid file i.e zero size')\n",
    "                \n",
    "    train_set_length = int(len(dataset) * SPLIT_SIZE)\n",
    "    test_set_length = int(len(dataset) - train_set_length)\n",
    "    shuffled_set = random.sample(dataset, len(dataset))\n",
    "    train_set = dataset[0:train_set_length]\n",
    "    test_set = dataset[-test_set_length:]\n",
    "       \n",
    "    for unitData in train_set:\n",
    "        temp_train_set = SOURCE + unitData\n",
    "        final_train_set = TRAINING + unitData\n",
    "        copyfile(temp_train_set, final_train_set)\n",
    "    \n",
    "    for unitData in test_set:\n",
    "        temp_test_set = SOURCE + unitData\n",
    "        final_test_set = TESTING + unitData\n",
    "        copyfile(temp_test_set, final_test_set)"
   ]
  },
  {
   "cell_type": "code",
   "execution_count": 5,
   "metadata": {},
   "outputs": [],
   "source": [
    "old_train_data_Dir_correct = \"data/training/class_00/\"\n",
    "old_test_data_Dir_correct = \"data/testing/class_00/\"\n",
    "CORRECT_SOURCE_DIR = \"complete_data/correct/\"\n",
    "TRAINING_CORRECT_DIR = \"data2/training/class_00/\"\n",
    "TESTING_CORRECT_DIR = \"data2/testing/class_00/\"\n",
    "\n",
    "\n",
    "old_train_data_Dir_n_nc = \"data/training/class_01/\"\n",
    "old_test_data_Dir_n_nc = \"data/testing/class_01/\"\n",
    "NOSE_NC_SOURCE_DIR = \"complete_data/nose_NC/\"\n",
    "TRAINING_NOSE_NC_DIR = \"data2/training/class_01/\"\n",
    "TESTING_NOSE_NC_DIR = \"data2/testing/class_01/\"\n",
    "\n",
    "\n",
    "old_train_data_Dir_nm_nc = \"data/training/class_02/\"\n",
    "old_test_data_Dir_nm_nc = \"data/testing/class_02/\"\n",
    "NOSE_MOUTH_NC_SOURCE_DIR = \"complete_data/nose_mouth_NC/\"\n",
    "TRAINING_NOSE_NC_MOUTH_DIR = \"data2/training/class_02/\"\n",
    "TESTING_NOSE_MOUTH_NC_DIR = \"data2/testing/class_02/\"\n",
    "\n",
    "\n",
    "old_train_data_Dir_c_nc = \"data/training/class_03/\"\n",
    "old_test_data_Dir_c_nc = \"data/testing/class_03/\"\n",
    "CHIN_NC_SOURCE_DIR = \"complete_data/chin_NC/\"\n",
    "TRAINING_CHIN_NC_DIR = \"data2/training/class_03/\"\n",
    "TESTING_CHIN_NC_DIR = \"data2/testing/class_03/\"\n",
    "\n",
    "split_size = .8\n",
    "\n",
    "split_data(old_train_data_Dir_correct, old_test_data_Dir_correct, CORRECT_SOURCE_DIR, TRAINING_CORRECT_DIR, TESTING_CORRECT_DIR, split_size)\n",
    "split_data(old_train_data_Dir_n_nc, old_test_data_Dir_n_nc, NOSE_NC_SOURCE_DIR, TRAINING_NOSE_NC_DIR, TESTING_NOSE_NC_DIR, split_size)\n",
    "split_data(old_train_data_Dir_nm_nc, old_test_data_Dir_nm_nc, NOSE_MOUTH_NC_SOURCE_DIR, TRAINING_NOSE_NC_MOUTH_DIR, TESTING_NOSE_MOUTH_NC_DIR, split_size)\n",
    "split_data(old_train_data_Dir_c_nc, old_test_data_Dir_c_nc, CHIN_NC_SOURCE_DIR, TRAINING_CHIN_NC_DIR, TESTING_CHIN_NC_DIR, split_size)"
   ]
  },
  {
   "cell_type": "code",
   "execution_count": 6,
   "metadata": {},
   "outputs": [
    {
     "name": "stdout",
     "output_type": "stream",
     "text": [
      "The number of images with facemask in the training set labelled 'Correct': 502\n",
      "The number of images with facemask in the test set labelled 'Correct': 126\n",
      "The number of images without facemask in the training set labelled 'Nose not correct': 502\n",
      "The number of images without facemask in the test set labelled 'Nose not correct': 126\n",
      "The number of images with facemask in the training set labelled 'Nose mouth not correct': 502\n",
      "The number of images with facemask in the test set labelled 'Nose mouth not correct': 126\n",
      "The number of images with facemask in the training set labelled 'Chin not correct': 502\n",
      "The number of images with facemask in the test set labelled 'Chin not correct': 126\n"
     ]
    }
   ],
   "source": [
    "print(\"The number of images with facemask in the training set labelled 'Correct':\", len(os.listdir('data2/training/class_00/')))\n",
    "print(\"The number of images with facemask in the test set labelled 'Correct':\", len(os.listdir('data2/testing/class_00/')))\n",
    "\n",
    "print(\"The number of images without facemask in the training set labelled 'Nose not correct':\", len(os.listdir('data2/training/class_01/')))\n",
    "print(\"The number of images without facemask in the test set labelled 'Nose not correct':\", len(os.listdir('data2/testing/class_01/')))\n",
    "\n",
    "print(\"The number of images with facemask in the training set labelled 'Nose mouth not correct':\", len(os.listdir('data2/training/class_02/')))\n",
    "print(\"The number of images with facemask in the test set labelled 'Nose mouth not correct':\", len(os.listdir('data2/testing/class_02/')))\n",
    "\n",
    "print(\"The number of images with facemask in the training set labelled 'Chin not correct':\", len(os.listdir('data2/training/class_03/')))\n",
    "print(\"The number of images with facemask in the test set labelled 'Chin not correct':\", len(os.listdir('data2/testing/class_03/')))"
   ]
  },
  {
   "cell_type": "code",
   "execution_count": null,
   "metadata": {},
   "outputs": [],
   "source": []
  }
 ],
 "metadata": {
  "kernelspec": {
   "display_name": "Python 3",
   "language": "python",
   "name": "python3"
  },
  "language_info": {
   "codemirror_mode": {
    "name": "ipython",
    "version": 3
   },
   "file_extension": ".py",
   "mimetype": "text/x-python",
   "name": "python",
   "nbconvert_exporter": "python",
   "pygments_lexer": "ipython3",
   "version": "3.8.6"
  }
 },
 "nbformat": 4,
 "nbformat_minor": 4
}
